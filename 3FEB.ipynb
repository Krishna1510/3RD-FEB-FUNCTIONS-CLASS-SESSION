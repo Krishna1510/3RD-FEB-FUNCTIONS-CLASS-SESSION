{
 "cells": [
  {
   "cell_type": "markdown",
   "id": "82725575-5688-4e01-94c2-15e26aa631e7",
   "metadata": {},
   "source": [
    "#FUNCTION"
   ]
  },
  {
   "cell_type": "code",
   "execution_count": 1,
   "id": "411bb9ee-b595-416d-b7fc-035c958531de",
   "metadata": {},
   "outputs": [
    {
     "name": "stdout",
     "output_type": "stream",
     "text": [
      "this is my program \n"
     ]
    }
   ],
   "source": [
    "print(\"this is my program \")"
   ]
  },
  {
   "cell_type": "code",
   "execution_count": 2,
   "id": "557108d0-1d04-421a-914f-e07019e7e611",
   "metadata": {},
   "outputs": [],
   "source": [
    "l=[1,2,3,4]"
   ]
  },
  {
   "cell_type": "code",
   "execution_count": 3,
   "id": "1881e010-bee7-4df2-8c60-441f47d6f0e3",
   "metadata": {},
   "outputs": [
    {
     "data": {
      "text/plain": [
       "3"
      ]
     },
     "execution_count": 3,
     "metadata": {},
     "output_type": "execute_result"
    }
   ],
   "source": [
    "l[2]"
   ]
  },
  {
   "cell_type": "code",
   "execution_count": 4,
   "id": "6d751a39-e22f-43ef-9fe6-f2b7b8994777",
   "metadata": {},
   "outputs": [
    {
     "ename": "SyntaxError",
     "evalue": "incomplete input (2690612609.py, line 2)",
     "output_type": "error",
     "traceback": [
      "\u001b[0;36m  Cell \u001b[0;32mIn[4], line 2\u001b[0;36m\u001b[0m\n\u001b[0;31m    \u001b[0m\n\u001b[0m    ^\u001b[0m\n\u001b[0;31mSyntaxError\u001b[0m\u001b[0;31m:\u001b[0m incomplete input\n"
     ]
    }
   ],
   "source": [
    "def test():\n",
    "    "
   ]
  },
  {
   "cell_type": "code",
   "execution_count": 5,
   "id": "51396a23-ac8c-4c53-b72a-e68ac9722dcf",
   "metadata": {},
   "outputs": [],
   "source": [
    "def test():\n",
    "    pass"
   ]
  },
  {
   "cell_type": "code",
   "execution_count": 6,
   "id": "9cd02674-e264-4d82-82a2-b0fdd7169e32",
   "metadata": {},
   "outputs": [],
   "source": [
    "def test1():\n",
    "    print(\"this is my very very 1st function\")"
   ]
  },
  {
   "cell_type": "code",
   "execution_count": 8,
   "id": "ce36d75a-eff9-493b-b10d-543d13b1b592",
   "metadata": {},
   "outputs": [
    {
     "name": "stdout",
     "output_type": "stream",
     "text": [
      "this is my very very 1st function\n"
     ]
    }
   ],
   "source": [
    "test1()"
   ]
  },
  {
   "cell_type": "code",
   "execution_count": 9,
   "id": "d7649fa5-3959-4db7-a79e-c0cd59dc249e",
   "metadata": {},
   "outputs": [
    {
     "name": "stdout",
     "output_type": "stream",
     "text": [
      "this is my very very 1st function\n"
     ]
    },
    {
     "ename": "TypeError",
     "evalue": "unsupported operand type(s) for +: 'NoneType' and 'str'",
     "output_type": "error",
     "traceback": [
      "\u001b[0;31m---------------------------------------------------------------------------\u001b[0m",
      "\u001b[0;31mTypeError\u001b[0m                                 Traceback (most recent call last)",
      "Cell \u001b[0;32mIn[9], line 1\u001b[0m\n\u001b[0;32m----> 1\u001b[0m \u001b[43mtest1\u001b[49m\u001b[43m(\u001b[49m\u001b[43m)\u001b[49m\u001b[38;5;241;43m+\u001b[39;49m\u001b[38;5;124;43m\"\u001b[39;49m\u001b[38;5;124;43mkrishna\u001b[39;49m\u001b[38;5;124;43m\"\u001b[39;49m\n",
      "\u001b[0;31mTypeError\u001b[0m: unsupported operand type(s) for +: 'NoneType' and 'str'"
     ]
    }
   ],
   "source": [
    "test1()+\"krishna\""
   ]
  },
  {
   "cell_type": "code",
   "execution_count": 13,
   "id": "c87c4d2d-0c49-41dc-ae3a-6ae1488fa80a",
   "metadata": {},
   "outputs": [],
   "source": [
    "def test2():\n",
    "    return \"this is my fun with return\""
   ]
  },
  {
   "cell_type": "code",
   "execution_count": 11,
   "id": "6566344c-c4e3-4201-a34f-f2f8c5f2c5a6",
   "metadata": {},
   "outputs": [
    {
     "data": {
      "text/plain": [
       "'this is my fun with return krishna'"
      ]
     },
     "execution_count": 11,
     "metadata": {},
     "output_type": "execute_result"
    }
   ],
   "source": [
    "test2()+\"krishna\""
   ]
  },
  {
   "cell_type": "code",
   "execution_count": 14,
   "id": "77f94e6e-52e9-4c15-9a8a-75201b795955",
   "metadata": {},
   "outputs": [],
   "source": [
    "def test3():\n",
    "    return 1,2,\" krishna\" , 45"
   ]
  },
  {
   "cell_type": "code",
   "execution_count": 15,
   "id": "3ac244c3-85d3-4f79-a81a-365c5f880801",
   "metadata": {},
   "outputs": [
    {
     "data": {
      "text/plain": [
       "(1, 2, ' krishna', 45)"
      ]
     },
     "execution_count": 15,
     "metadata": {},
     "output_type": "execute_result"
    }
   ],
   "source": [
    "test3()"
   ]
  },
  {
   "cell_type": "code",
   "execution_count": 16,
   "id": "7936a498-6499-4668-b64d-e35596d4c44b",
   "metadata": {},
   "outputs": [],
   "source": [
    "a = 1,2,2,3,4,5"
   ]
  },
  {
   "cell_type": "code",
   "execution_count": 17,
   "id": "8cba3047-aa98-45ed-91f8-f6f241c8229d",
   "metadata": {},
   "outputs": [
    {
     "data": {
      "text/plain": [
       "(1, 2, 2, 3, 4, 5)"
      ]
     },
     "execution_count": 17,
     "metadata": {},
     "output_type": "execute_result"
    }
   ],
   "source": [
    "a"
   ]
  },
  {
   "cell_type": "code",
   "execution_count": 18,
   "id": "b51e8607-bba0-47da-bf74-32c9ea514c8a",
   "metadata": {},
   "outputs": [],
   "source": [
    "a,b,c,d = 1,2,3,4"
   ]
  },
  {
   "cell_type": "code",
   "execution_count": 19,
   "id": "e233e6a1-8e4e-48b4-a1f5-b0ba78bb4e35",
   "metadata": {},
   "outputs": [
    {
     "data": {
      "text/plain": [
       "1"
      ]
     },
     "execution_count": 19,
     "metadata": {},
     "output_type": "execute_result"
    }
   ],
   "source": [
    "a"
   ]
  },
  {
   "cell_type": "code",
   "execution_count": 20,
   "id": "da77d033-36eb-4923-b92d-777d7ae90f18",
   "metadata": {},
   "outputs": [
    {
     "data": {
      "text/plain": [
       "2"
      ]
     },
     "execution_count": 20,
     "metadata": {},
     "output_type": "execute_result"
    }
   ],
   "source": [
    "b"
   ]
  },
  {
   "cell_type": "code",
   "execution_count": 21,
   "id": "1a907a5d-fd69-4806-a97d-f29aa869e09f",
   "metadata": {},
   "outputs": [
    {
     "data": {
      "text/plain": [
       "3"
      ]
     },
     "execution_count": 21,
     "metadata": {},
     "output_type": "execute_result"
    }
   ],
   "source": [
    "c"
   ]
  },
  {
   "cell_type": "code",
   "execution_count": 22,
   "id": "9a9c53a4-b982-4df8-976d-b83f4234f7ef",
   "metadata": {},
   "outputs": [
    {
     "data": {
      "text/plain": [
       "4"
      ]
     },
     "execution_count": 22,
     "metadata": {},
     "output_type": "execute_result"
    }
   ],
   "source": [
    "d"
   ]
  },
  {
   "cell_type": "code",
   "execution_count": 23,
   "id": "3850afb2-8862-477d-843e-4f4a71a842cb",
   "metadata": {},
   "outputs": [
    {
     "data": {
      "text/plain": [
       "(1, 2, ' krishna', 45)"
      ]
     },
     "execution_count": 23,
     "metadata": {},
     "output_type": "execute_result"
    }
   ],
   "source": [
    "test3()"
   ]
  },
  {
   "cell_type": "code",
   "execution_count": 26,
   "id": "e8dd451c-d2fa-4217-b10d-7ab9412a511e",
   "metadata": {},
   "outputs": [
    {
     "data": {
      "text/plain": [
       "2"
      ]
     },
     "execution_count": 26,
     "metadata": {},
     "output_type": "execute_result"
    }
   ],
   "source": [
    "test3()[1]"
   ]
  },
  {
   "cell_type": "code",
   "execution_count": 27,
   "id": "0d501826-fb0f-460d-b56f-ba591ffedafa",
   "metadata": {},
   "outputs": [
    {
     "data": {
      "text/plain": [
       "1"
      ]
     },
     "execution_count": 27,
     "metadata": {},
     "output_type": "execute_result"
    }
   ],
   "source": [
    "test3()[0]"
   ]
  },
  {
   "cell_type": "code",
   "execution_count": 29,
   "id": "858f5b7b-da6b-4a46-8dcb-fec44cb8cbd3",
   "metadata": {},
   "outputs": [
    {
     "data": {
      "text/plain": [
       "' krishna'"
      ]
     },
     "execution_count": 29,
     "metadata": {},
     "output_type": "execute_result"
    }
   ],
   "source": [
    "test3()[2]"
   ]
  },
  {
   "cell_type": "code",
   "execution_count": 30,
   "id": "132d014d-878f-4932-a2b2-39543d6b414e",
   "metadata": {},
   "outputs": [],
   "source": [
    "a,b,c,d=test3()"
   ]
  },
  {
   "cell_type": "code",
   "execution_count": 31,
   "id": "ba202963-f205-4a9c-8489-14e7377fa5e8",
   "metadata": {},
   "outputs": [
    {
     "data": {
      "text/plain": [
       "1"
      ]
     },
     "execution_count": 31,
     "metadata": {},
     "output_type": "execute_result"
    }
   ],
   "source": [
    "a"
   ]
  },
  {
   "cell_type": "code",
   "execution_count": 32,
   "id": "97053d2a-9598-4a25-a145-95d2ee62cf8d",
   "metadata": {},
   "outputs": [
    {
     "data": {
      "text/plain": [
       "2"
      ]
     },
     "execution_count": 32,
     "metadata": {},
     "output_type": "execute_result"
    }
   ],
   "source": [
    "b"
   ]
  },
  {
   "cell_type": "code",
   "execution_count": 33,
   "id": "a2bb9a82-2bd8-45c8-a31f-dfc1ae79d79c",
   "metadata": {},
   "outputs": [
    {
     "data": {
      "text/plain": [
       "' krishna'"
      ]
     },
     "execution_count": 33,
     "metadata": {},
     "output_type": "execute_result"
    }
   ],
   "source": [
    "c"
   ]
  },
  {
   "cell_type": "code",
   "execution_count": 34,
   "id": "c82872a8-4d8b-4798-b4c3-4dbdc0076023",
   "metadata": {},
   "outputs": [
    {
     "data": {
      "text/plain": [
       "45"
      ]
     },
     "execution_count": 34,
     "metadata": {},
     "output_type": "execute_result"
    }
   ],
   "source": [
    "d"
   ]
  },
  {
   "cell_type": "code",
   "execution_count": 39,
   "id": "4201c244-d677-4e66-bcfa-5205bc287cab",
   "metadata": {},
   "outputs": [],
   "source": [
    "def test4():\n",
    "    a=3*5+6\n",
    "    return a"
   ]
  },
  {
   "cell_type": "code",
   "execution_count": 40,
   "id": "126f3241-e3d6-4116-b203-56c0c272996d",
   "metadata": {},
   "outputs": [
    {
     "data": {
      "text/plain": [
       "21"
      ]
     },
     "execution_count": 40,
     "metadata": {},
     "output_type": "execute_result"
    }
   ],
   "source": [
    "test4()"
   ]
  },
  {
   "cell_type": "code",
   "execution_count": 41,
   "id": "2127ef04-46e6-41e1-ad18-5eef469245f9",
   "metadata": {},
   "outputs": [
    {
     "data": {
      "text/plain": [
       "int"
      ]
     },
     "execution_count": 41,
     "metadata": {},
     "output_type": "execute_result"
    }
   ],
   "source": [
    "type(test4())"
   ]
  },
  {
   "cell_type": "code",
   "execution_count": 43,
   "id": "79a65bd2-4f9b-41f5-bed9-96028ff80c79",
   "metadata": {},
   "outputs": [],
   "source": [
    "def test5(a,b):\n",
    "    c=a+b\n",
    "    return c"
   ]
  },
  {
   "cell_type": "code",
   "execution_count": 44,
   "id": "5caef4f2-53a5-496e-8708-9f18aefcaff1",
   "metadata": {},
   "outputs": [
    {
     "ename": "TypeError",
     "evalue": "test5() missing 2 required positional arguments: 'a' and 'b'",
     "output_type": "error",
     "traceback": [
      "\u001b[0;31m---------------------------------------------------------------------------\u001b[0m",
      "\u001b[0;31mTypeError\u001b[0m                                 Traceback (most recent call last)",
      "Cell \u001b[0;32mIn[44], line 1\u001b[0m\n\u001b[0;32m----> 1\u001b[0m \u001b[43mtest5\u001b[49m\u001b[43m(\u001b[49m\u001b[43m)\u001b[49m\n",
      "\u001b[0;31mTypeError\u001b[0m: test5() missing 2 required positional arguments: 'a' and 'b'"
     ]
    }
   ],
   "source": [
    "test5()"
   ]
  },
  {
   "cell_type": "code",
   "execution_count": 45,
   "id": "535ac15c-36d3-4b1d-b76f-1293a9182992",
   "metadata": {},
   "outputs": [
    {
     "data": {
      "text/plain": [
       "5"
      ]
     },
     "execution_count": 45,
     "metadata": {},
     "output_type": "execute_result"
    }
   ],
   "source": [
    "test5(2,3)"
   ]
  },
  {
   "cell_type": "code",
   "execution_count": 46,
   "id": "f6ed3c71-ce75-4e82-953d-d111c4a9c630",
   "metadata": {},
   "outputs": [
    {
     "data": {
      "text/plain": [
       "'krishna baberwal'"
      ]
     },
     "execution_count": 46,
     "metadata": {},
     "output_type": "execute_result"
    }
   ],
   "source": [
    "test5(\"krishna \" , \"baberwal\")"
   ]
  },
  {
   "cell_type": "code",
   "execution_count": 48,
   "id": "42113b34-b617-4ab0-8346-fc932c1e7f7e",
   "metadata": {},
   "outputs": [
    {
     "data": {
      "text/plain": [
       "[1, 2, 3, 4, 5, 6, 7, 8]"
      ]
     },
     "execution_count": 48,
     "metadata": {},
     "output_type": "execute_result"
    }
   ],
   "source": [
    "test5([1,2,3,4],[5,6,7,8])"
   ]
  },
  {
   "cell_type": "code",
   "execution_count": 49,
   "id": "a3fb8a17-4e74-44ec-8214-3c97918ee391",
   "metadata": {},
   "outputs": [
    {
     "data": {
      "text/plain": [
       "'baberwalkrishna'"
      ]
     },
     "execution_count": 49,
     "metadata": {},
     "output_type": "execute_result"
    }
   ],
   "source": [
    "test5(b=\"krishna\" ,a=\"baberwal\")"
   ]
  },
  {
   "cell_type": "code",
   "execution_count": 51,
   "id": "b7e66361-c2ec-4a98-9bdc-3d09074a5933",
   "metadata": {},
   "outputs": [],
   "source": [
    "l= [ 1.,2,3,4,\"pwskilss\" ,[3,4,5]]"
   ]
  },
  {
   "cell_type": "markdown",
   "id": "8b39774b-8c61-4267-8ef5-de10300f538a",
   "metadata": {},
   "source": [
    "#create a fun which will take list as input and give final result as list only with numeric values"
   ]
  },
  {
   "cell_type": "code",
   "execution_count": 56,
   "id": "3b1e4da3-402d-4750-97e6-a53d0d2d101f",
   "metadata": {},
   "outputs": [],
   "source": [
    "def test6(a):\n",
    "    n=[]\n",
    "    for i in a:\n",
    "        if type(i)==int or type(i)==float:\n",
    "            n.append(i)\n",
    "    return n"
   ]
  },
  {
   "cell_type": "code",
   "execution_count": 53,
   "id": "c23283b3-61f4-47b4-822c-ec1f482148e1",
   "metadata": {},
   "outputs": [
    {
     "data": {
      "text/plain": [
       "[1.0, 2, 3, 4, 'pwskilss', [3, 4, 5]]"
      ]
     },
     "execution_count": 53,
     "metadata": {},
     "output_type": "execute_result"
    }
   ],
   "source": [
    "l"
   ]
  },
  {
   "cell_type": "code",
   "execution_count": 58,
   "id": "93d254ec-e5f7-458f-859a-75ee08244ea7",
   "metadata": {},
   "outputs": [
    {
     "data": {
      "text/plain": [
       "[1.0, 2, 3, 4]"
      ]
     },
     "execution_count": 58,
     "metadata": {},
     "output_type": "execute_result"
    }
   ],
   "source": [
    "test6(l)"
   ]
  },
  {
   "cell_type": "code",
   "execution_count": 59,
   "id": "817ebbe9-d824-41d5-abb4-eabab44b4e87",
   "metadata": {},
   "outputs": [
    {
     "data": {
      "text/plain": [
       "[1.0, 2, 3, 4, 'pwskilss', [3, 4, 5]]"
      ]
     },
     "execution_count": 59,
     "metadata": {},
     "output_type": "execute_result"
    }
   ],
   "source": [
    "l"
   ]
  },
  {
   "cell_type": "code",
   "execution_count": 74,
   "id": "33487c9e-4484-4bcb-8315-ab4eafd43ff2",
   "metadata": {},
   "outputs": [
    {
     "ename": "IndentationError",
     "evalue": "expected an indented block after 'if' statement on line 4 (2474139344.py, line 5)",
     "output_type": "error",
     "traceback": [
      "\u001b[0;36m  Cell \u001b[0;32mIn[74], line 5\u001b[0;36m\u001b[0m\n\u001b[0;31m    for j in i :\u001b[0m\n\u001b[0m    ^\u001b[0m\n\u001b[0;31mIndentationError\u001b[0m\u001b[0;31m:\u001b[0m expected an indented block after 'if' statement on line 4\n"
     ]
    }
   ],
   "source": [
    "def test7(a):\n",
    "    n=[]\n",
    "    for i in a :\n",
    "        if type(i) == list :\n",
    "        for j in i :\n",
    "            if type(j) == int or type(j) == float:\n",
    "            n.append(j)\n",
    "    else :\n",
    "           if type(i) == int or type(i) == float\n",
    "              n.append(i)\n",
    "    return n"
   ]
  },
  {
   "cell_type": "code",
   "execution_count": 85,
   "id": "5de8ca41-4faf-4650-88b7-5c4c824c06a5",
   "metadata": {},
   "outputs": [
    {
     "ename": "IndentationError",
     "evalue": "expected an indented block after 'if' statement on line 9 (530098266.py, line 10)",
     "output_type": "error",
     "traceback": [
      "\u001b[0;36m  Cell \u001b[0;32mIn[85], line 10\u001b[0;36m\u001b[0m\n\u001b[0;31m    n.append(i)\u001b[0m\n\u001b[0m    ^\u001b[0m\n\u001b[0;31mIndentationError\u001b[0m\u001b[0;31m:\u001b[0m expected an indented block after 'if' statement on line 9\n"
     ]
    }
   ],
   "source": [
    "def test7(a):\n",
    "    n=[]\n",
    "    for i in a :\n",
    "        if type(i)==list:\n",
    "            for j in i :\n",
    "                if type(j)==int or type(j)==float : \n",
    "                    n.append(j)\n",
    "            else:\n",
    "                if type(i)==int or type(i)==float :\n",
    "                n.append(i)\n",
    "    return n"
   ]
  },
  {
   "cell_type": "code",
   "execution_count": 89,
   "id": "9a5260ab-4e5a-41bf-a26c-9e19250f2182",
   "metadata": {},
   "outputs": [],
   "source": [
    "def test8(a,b,c,d,e):\n",
    "    pass"
   ]
  },
  {
   "cell_type": "code",
   "execution_count": 90,
   "id": "5b1fbed5-7f8b-4e74-9965-5b8f87a6058b",
   "metadata": {},
   "outputs": [
    {
     "ename": "TypeError",
     "evalue": "test8() missing 5 required positional arguments: 'a', 'b', 'c', 'd', and 'e'",
     "output_type": "error",
     "traceback": [
      "\u001b[0;31m---------------------------------------------------------------------------\u001b[0m",
      "\u001b[0;31mTypeError\u001b[0m                                 Traceback (most recent call last)",
      "Cell \u001b[0;32mIn[90], line 1\u001b[0m\n\u001b[0;32m----> 1\u001b[0m \u001b[43mtest8\u001b[49m\u001b[43m(\u001b[49m\u001b[43m)\u001b[49m\n",
      "\u001b[0;31mTypeError\u001b[0m: test8() missing 5 required positional arguments: 'a', 'b', 'c', 'd', and 'e'"
     ]
    }
   ],
   "source": [
    "test8()"
   ]
  },
  {
   "cell_type": "code",
   "execution_count": 91,
   "id": "6d0f6068-75e5-4769-ab1d-5360e88bf86f",
   "metadata": {},
   "outputs": [],
   "source": [
    "test8(1,2,3,4,5)"
   ]
  },
  {
   "cell_type": "code",
   "execution_count": 92,
   "id": "edfdebd7-7884-413c-b2cf-14c26ca0a94a",
   "metadata": {},
   "outputs": [
    {
     "data": {
      "text/plain": [
       "<function __main__.test8(a, b, c, d, e)>"
      ]
     },
     "execution_count": 92,
     "metadata": {},
     "output_type": "execute_result"
    }
   ],
   "source": [
    "test8"
   ]
  },
  {
   "cell_type": "code",
   "execution_count": 93,
   "id": "d1b95e8b-f387-4f3b-a116-1153f57da755",
   "metadata": {},
   "outputs": [
    {
     "data": {
      "text/plain": [
       "1"
      ]
     },
     "execution_count": 93,
     "metadata": {},
     "output_type": "execute_result"
    }
   ],
   "source": [
    "a"
   ]
  },
  {
   "cell_type": "code",
   "execution_count": 94,
   "id": "fa0cd5fc-cacc-4604-92f2-eb17c12f1c9c",
   "metadata": {},
   "outputs": [
    {
     "ename": "TypeError",
     "evalue": "test8() takes 5 positional arguments but 6 were given",
     "output_type": "error",
     "traceback": [
      "\u001b[0;31m---------------------------------------------------------------------------\u001b[0m",
      "\u001b[0;31mTypeError\u001b[0m                                 Traceback (most recent call last)",
      "Cell \u001b[0;32mIn[94], line 1\u001b[0m\n\u001b[0;32m----> 1\u001b[0m \u001b[43mtest8\u001b[49m\u001b[43m(\u001b[49m\u001b[38;5;241;43m1\u001b[39;49m\u001b[43m,\u001b[49m\u001b[38;5;241;43m2\u001b[39;49m\u001b[43m,\u001b[49m\u001b[38;5;241;43m3\u001b[39;49m\u001b[43m,\u001b[49m\u001b[38;5;241;43m4\u001b[39;49m\u001b[43m,\u001b[49m\u001b[38;5;241;43m5\u001b[39;49m\u001b[43m,\u001b[49m\u001b[38;5;241;43m6\u001b[39;49m\u001b[43m)\u001b[49m\n",
      "\u001b[0;31mTypeError\u001b[0m: test8() takes 5 positional arguments but 6 were given"
     ]
    }
   ],
   "source": [
    "test8(1,2,3,4,5,6)"
   ]
  },
  {
   "cell_type": "code",
   "execution_count": 95,
   "id": "85b324e3-2e1a-46d0-88b0-e325750d2f0a",
   "metadata": {},
   "outputs": [],
   "source": [
    "def test9(*args):\n",
    "    return args"
   ]
  },
  {
   "cell_type": "code",
   "execution_count": 97,
   "id": "5bd987e9-b862-4cc4-a084-6038d3e8b7a6",
   "metadata": {},
   "outputs": [
    {
     "data": {
      "text/plain": [
       "(1, 1, 3, 4, 5, 6, 9, 8)"
      ]
     },
     "execution_count": 97,
     "metadata": {},
     "output_type": "execute_result"
    }
   ],
   "source": [
    "test9(1,1,3,4,5,6,9,8,)"
   ]
  },
  {
   "cell_type": "code",
   "execution_count": 100,
   "id": "0fc11f4c-bf6e-48b8-99f3-7d32add3858f",
   "metadata": {},
   "outputs": [
    {
     "data": {
      "text/plain": [
       "(1, 23, 3, 4, 'hello', ['heloo'])"
      ]
     },
     "execution_count": 100,
     "metadata": {},
     "output_type": "execute_result"
    }
   ],
   "source": [
    "test9(1,23,3,4, \"hello\" , [\"heloo\"])"
   ]
  },
  {
   "cell_type": "code",
   "execution_count": 101,
   "id": "d8b1a5eb-69b1-4ff9-a002-caf28433a71d",
   "metadata": {},
   "outputs": [],
   "source": [
    "def test10(*args , a):\n",
    "    return args , a"
   ]
  },
  {
   "cell_type": "code",
   "execution_count": 102,
   "id": "db8f7de5-6392-4ffa-bb1b-d0cddec41e61",
   "metadata": {},
   "outputs": [
    {
     "ename": "TypeError",
     "evalue": "test10() missing 1 required keyword-only argument: 'a'",
     "output_type": "error",
     "traceback": [
      "\u001b[0;31m---------------------------------------------------------------------------\u001b[0m",
      "\u001b[0;31mTypeError\u001b[0m                                 Traceback (most recent call last)",
      "Cell \u001b[0;32mIn[102], line 1\u001b[0m\n\u001b[0;32m----> 1\u001b[0m \u001b[43mtest10\u001b[49m\u001b[43m(\u001b[49m\u001b[38;5;241;43m1.2\u001b[39;49m\u001b[43m,\u001b[49m\u001b[38;5;241;43m3\u001b[39;49m\u001b[43m,\u001b[49m\u001b[38;5;241;43m3\u001b[39;49m\u001b[43m,\u001b[49m\u001b[38;5;241;43m4\u001b[39;49m\u001b[43m,\u001b[49m\u001b[38;5;241;43m5\u001b[39;49m\u001b[43m,\u001b[49m\u001b[38;5;241;43m6\u001b[39;49m\u001b[43m)\u001b[49m\n",
      "\u001b[0;31mTypeError\u001b[0m: test10() missing 1 required keyword-only argument: 'a'"
     ]
    }
   ],
   "source": [
    "test10(1.2,3,3,4,5,6)"
   ]
  },
  {
   "cell_type": "code",
   "execution_count": 103,
   "id": "e7f05848-65c9-4251-a496-a444398ae16f",
   "metadata": {},
   "outputs": [
    {
     "data": {
      "text/plain": [
       "((1.2, 3, 3, 4, 5, 6), 10)"
      ]
     },
     "execution_count": 103,
     "metadata": {},
     "output_type": "execute_result"
    }
   ],
   "source": [
    "test10(1.2,3,3,4,5,6 , a=10)"
   ]
  },
  {
   "cell_type": "code",
   "execution_count": 104,
   "id": "19598eed-e03b-4d95-9ca3-6d26effd8bab",
   "metadata": {},
   "outputs": [],
   "source": [
    "def test11(*args):\n",
    "    l=[]\n",
    "    for i in args:\n",
    "        if type(i)==list:\n",
    "            l.append(i)\n",
    "    return l"
   ]
  },
  {
   "cell_type": "code",
   "execution_count": 107,
   "id": "4ddb8e2f-75d3-482c-aee2-44d65a89b492",
   "metadata": {},
   "outputs": [
    {
     "data": {
      "text/plain": [
       "[[3, 4, 5, 9], [(2+5j)], [8, 9, 6, 58]]"
      ]
     },
     "execution_count": 107,
     "metadata": {},
     "output_type": "execute_result"
    }
   ],
   "source": [
    "test11(1,2,3,[3,4,5,9,],[2+5j], \"hello\", [8,9,6,58])"
   ]
  },
  {
   "cell_type": "code",
   "execution_count": 108,
   "id": "e51b5e67-c213-4f50-8e82-5de2f5253ab3",
   "metadata": {},
   "outputs": [],
   "source": [
    "def test12(**kwargs):\n",
    "    return kwargs"
   ]
  },
  {
   "cell_type": "code",
   "execution_count": 110,
   "id": "58b27260-4ac6-477a-96c9-3cdafa93493e",
   "metadata": {},
   "outputs": [
    {
     "data": {
      "text/plain": [
       "{}"
      ]
     },
     "execution_count": 110,
     "metadata": {},
     "output_type": "execute_result"
    }
   ],
   "source": [
    "test12()"
   ]
  },
  {
   "cell_type": "code",
   "execution_count": 111,
   "id": "05d62037-b453-43ea-97e0-5e4de7441be2",
   "metadata": {},
   "outputs": [
    {
     "data": {
      "text/plain": [
       "dict"
      ]
     },
     "execution_count": 111,
     "metadata": {},
     "output_type": "execute_result"
    }
   ],
   "source": [
    "type(test12())"
   ]
  },
  {
   "cell_type": "code",
   "execution_count": 112,
   "id": "37be1e44-5da2-447e-855e-4a5713817fa7",
   "metadata": {},
   "outputs": [
    {
     "data": {
      "text/plain": [
       "{'a': 12, 'b': 22, 'c': [1, 2, 3, 4, 5], 'd': ('hello ', 'world')}"
      ]
     },
     "execution_count": 112,
     "metadata": {},
     "output_type": "execute_result"
    }
   ],
   "source": [
    "test12(a=12 ,b=22 , c=[1,2,3,4,5], d =(\"hello \", \"world\" ))"
   ]
  },
  {
   "cell_type": "code",
   "execution_count": 113,
   "id": "c96cdef1-5390-4d24-acbc-40b166d54032",
   "metadata": {},
   "outputs": [],
   "source": [
    "def test13(**kwargs):\n",
    "    for i in kwargs.keys():\n",
    "        if type(kwargs[i])==list:\n",
    "            return i , kwargs[i]"
   ]
  },
  {
   "cell_type": "code",
   "execution_count": 114,
   "id": "bb121f75-4e3c-438b-9ddf-a546418245b4",
   "metadata": {},
   "outputs": [
    {
     "data": {
      "text/plain": [
       "('c', [1, 2, 3, 4, 5])"
      ]
     },
     "execution_count": 114,
     "metadata": {},
     "output_type": "execute_result"
    }
   ],
   "source": [
    "test13(a=12 ,b=22 , c=[1,2,3,4,5], d =(\"hello \", \"world\" ))"
   ]
  },
  {
   "cell_type": "code",
   "execution_count": 116,
   "id": "ab474b86-9fad-4dc3-9d7d-b06a72bfecb4",
   "metadata": {},
   "outputs": [],
   "source": [
    "def test14(*args , **kwargs):\n",
    "    return args, kwargs"
   ]
  },
  {
   "cell_type": "code",
   "execution_count": 117,
   "id": "d7137f39-41d2-4b1e-9615-357b7f98a57e",
   "metadata": {},
   "outputs": [
    {
     "data": {
      "text/plain": [
       "((2, 4, 5, 6, 9), {'a': 14, 'b': 21, 'd': 25})"
      ]
     },
     "execution_count": 117,
     "metadata": {},
     "output_type": "execute_result"
    }
   ],
   "source": [
    "test14(2,4,5,6,9,a=14,b=21,d=25)"
   ]
  },
  {
   "cell_type": "markdown",
   "id": "07d0ec30-4dfe-4b2c-895e-195e2ae70828",
   "metadata": {},
   "source": [
    "#GENERATOR FUNCTIONS"
   ]
  },
  {
   "cell_type": "code",
   "execution_count": 118,
   "id": "28a0ca8f-d367-49b0-a274-76b0c878f48d",
   "metadata": {},
   "outputs": [
    {
     "data": {
      "text/plain": [
       "range(1, 10)"
      ]
     },
     "execution_count": 118,
     "metadata": {},
     "output_type": "execute_result"
    }
   ],
   "source": [
    "range(1,10)"
   ]
  },
  {
   "cell_type": "code",
   "execution_count": 120,
   "id": "b107ecd1-14d3-4268-8b90-be89058dbe2f",
   "metadata": {},
   "outputs": [
    {
     "name": "stdout",
     "output_type": "stream",
     "text": [
      "1\n",
      "2\n",
      "3\n",
      "4\n",
      "5\n",
      "6\n",
      "7\n",
      "8\n",
      "9\n"
     ]
    }
   ],
   "source": [
    "for i in range (1,10):\n",
    "    print (i)"
   ]
  },
  {
   "cell_type": "code",
   "execution_count": 122,
   "id": "4d09cadc-1fbb-49ea-88a8-33de5b8466b4",
   "metadata": {},
   "outputs": [],
   "source": [
    "l=[2,2,3,3,4,5,3,6,\"hello\" ,\"pwskilss\",5,68]\n"
   ]
  },
  {
   "cell_type": "code",
   "execution_count": 123,
   "id": "62282f57-912d-466f-94ab-232f9d31c9db",
   "metadata": {},
   "outputs": [],
   "source": [
    "def test15(a):\n",
    "    n=[]\n",
    "    for i in a:\n",
    "        if type(i)==int:\n",
    "            n.append(i)\n",
    "    return n"
   ]
  },
  {
   "cell_type": "code",
   "execution_count": 124,
   "id": "967cd74d-bcc6-49a2-bbdc-b04ad035ebb2",
   "metadata": {},
   "outputs": [
    {
     "data": {
      "text/plain": [
       "[2, 2, 3, 3, 4, 5, 3, 6, 5, 68]"
      ]
     },
     "execution_count": 124,
     "metadata": {},
     "output_type": "execute_result"
    }
   ],
   "source": [
    "test15(l)"
   ]
  },
  {
   "cell_type": "markdown",
   "id": "d37b6e1e-2169-448d-8bdd-dcee1fcb4be1",
   "metadata": {},
   "source": [
    "#fibonacci series\n",
    "0, 1 , 1 , 2 , 3 , 5 ,8 , 13 , 21"
   ]
  },
  {
   "cell_type": "code",
   "execution_count": 129,
   "id": "c9d295c4-2f0a-4488-b0ac-b45da97c720a",
   "metadata": {},
   "outputs": [],
   "source": [
    "def test_fib(n):\n",
    "    a,b=1,2\n",
    "    for i in range(n):\n",
    "        yield a\n",
    "        a,b = b ,a+b"
   ]
  },
  {
   "cell_type": "code",
   "execution_count": 130,
   "id": "0abeaec9-0bf4-45bd-928b-37ecd24ca11c",
   "metadata": {},
   "outputs": [
    {
     "data": {
      "text/plain": [
       "<generator object test_fib at 0x7f2344733760>"
      ]
     },
     "execution_count": 130,
     "metadata": {},
     "output_type": "execute_result"
    }
   ],
   "source": [
    "test_fib(10)"
   ]
  },
  {
   "cell_type": "code",
   "execution_count": 133,
   "id": "57f3bcf3-117b-4a67-b3fe-d5a017e43870",
   "metadata": {},
   "outputs": [
    {
     "name": "stdout",
     "output_type": "stream",
     "text": [
      "1\n",
      "2\n",
      "3\n",
      "5\n",
      "8\n",
      "13\n",
      "21\n",
      "34\n",
      "55\n",
      "89\n"
     ]
    }
   ],
   "source": [
    "for i in test_fib(10):\n",
    "    print (i)"
   ]
  },
  {
   "cell_type": "code",
   "execution_count": 137,
   "id": "799db605-e90b-4959-bf79-fe232a088fb0",
   "metadata": {},
   "outputs": [],
   "source": [
    "def test20_fib(n):\n",
    "    a,b=0,5\n",
    "    for i in range(n):\n",
    "        yield a\n",
    "        a,b = b ,a+b"
   ]
  },
  {
   "cell_type": "code",
   "execution_count": 138,
   "id": "d7f12737-14a5-4925-88ad-9212b0ddcdfa",
   "metadata": {},
   "outputs": [
    {
     "data": {
      "text/plain": [
       "<generator object test20_fib at 0x7f2344733bc0>"
      ]
     },
     "execution_count": 138,
     "metadata": {},
     "output_type": "execute_result"
    }
   ],
   "source": [
    "test20_fib(10)"
   ]
  },
  {
   "cell_type": "code",
   "execution_count": 139,
   "id": "5ca9910a-a980-43a2-8b35-c194c9ce9b28",
   "metadata": {},
   "outputs": [
    {
     "name": "stdout",
     "output_type": "stream",
     "text": [
      "0\n",
      "5\n",
      "5\n",
      "10\n",
      "15\n",
      "25\n",
      "40\n",
      "65\n",
      "105\n",
      "170\n"
     ]
    }
   ],
   "source": [
    "for i in test20_fib(10):\n",
    "    print (i)"
   ]
  },
  {
   "cell_type": "code",
   "execution_count": null,
   "id": "684ffafe-b33d-489d-bd7c-448d534eae09",
   "metadata": {},
   "outputs": [],
   "source": []
  }
 ],
 "metadata": {
  "kernelspec": {
   "display_name": "Python 3 (ipykernel)",
   "language": "python",
   "name": "python3"
  },
  "language_info": {
   "codemirror_mode": {
    "name": "ipython",
    "version": 3
   },
   "file_extension": ".py",
   "mimetype": "text/x-python",
   "name": "python",
   "nbconvert_exporter": "python",
   "pygments_lexer": "ipython3",
   "version": "3.10.8"
  }
 },
 "nbformat": 4,
 "nbformat_minor": 5
}
